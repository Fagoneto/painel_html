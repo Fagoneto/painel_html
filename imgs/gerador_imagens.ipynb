{
 "cells": [
  {
   "cell_type": "code",
   "execution_count": 1,
   "id": "49e47bd8",
   "metadata": {},
   "outputs": [],
   "source": [
    "import pandas as pd\n",
    "import matplotlib.pyplot as plt\n",
    "import os\n",
    "\n",
    "# Carrega dados\n",
    "df = pd.read_csv('/Users/franciscoabraao/Documents/Jubart_2024/Painel_Precos_diarios_morumbi/precos_carrefour_morumbi_last_30_days.csv')\n",
    "df['data'] = pd.to_datetime(df['data'])\n",
    "\n",
    "# Categorias principais\n",
    "categorias = [\"frango\", \"picanha\", \"tilápia\", \"camarão\", \"salmão\", \"bacalhau\", \"merluza\", \"ovos\", \"leite\", \"azeite\"]\n",
    "\n",
    "# Cria pasta de imagens\n",
    "os.makedirs(\"imgs_categoria\", exist_ok=True)\n",
    "\n",
    "for categoria in categorias:\n",
    "    subset = df[df['produto'].str.contains(categoria, case=False, na=False)]\n",
    "    top_produtos = subset['produto'].value_counts().nlargest(10).index\n",
    "    subset = subset[subset['produto'].isin(top_produtos)]\n",
    "\n",
    "    if subset.empty:\n",
    "        continue\n",
    "\n",
    "    # Criação da figura com subplots\n",
    "    fig, axs = plt.subplots(nrows=len(top_produtos), figsize=(4, 1.5 * len(top_produtos)))\n",
    "\n",
    "    if len(top_produtos) == 1:\n",
    "        axs = [axs]\n",
    "\n",
    "    for ax, produto in zip(axs, top_produtos):\n",
    "        historico = subset[subset['produto'] == produto].sort_values('data')\n",
    "        datas = historico['data'].dt.strftime('%d').tolist()\n",
    "        precos = historico['preco'].tolist()\n",
    "        if not precos:\n",
    "            continue\n",
    "\n",
    "        ax.plot(precos, marker='o', linewidth=1.5, markersize=4)\n",
    "        ax.set_xticks(range(len(datas)))\n",
    "        ax.set_xticklabels(datas, fontsize=6)\n",
    "        ax.set_xlabel(\"Dia\", fontsize=7)\n",
    "        ax.set_ylabel(\"R$\", fontsize=7)\n",
    "        ax.set_title(produto, fontsize=8)\n",
    "        ax.tick_params(axis='y', labelsize=6)\n",
    "        ax.grid(True, linestyle='--', linewidth=0.3)\n",
    "\n",
    "    plt.tight_layout()\n",
    "    plt.savefig(f\"imgs_categoria/{categoria}.png\", dpi=100)\n",
    "    plt.close(fig)"
   ]
  }
 ],
 "metadata": {
  "kernelspec": {
   "display_name": "base",
   "language": "python",
   "name": "python3"
  },
  "language_info": {
   "codemirror_mode": {
    "name": "ipython",
    "version": 3
   },
   "file_extension": ".py",
   "mimetype": "text/x-python",
   "name": "python",
   "nbconvert_exporter": "python",
   "pygments_lexer": "ipython3",
   "version": "3.12.2"
  }
 },
 "nbformat": 4,
 "nbformat_minor": 5
}
